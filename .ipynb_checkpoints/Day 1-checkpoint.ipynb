{
 "cells": [
  {
   "cell_type": "markdown",
   "id": "3b9bb147",
   "metadata": {},
   "source": [
    "## Printing, Commenting, Debugging, String Manipulation and Variables"
   ]
  },
  {
   "cell_type": "code",
   "execution_count": 1,
   "id": "8befe8fd",
   "metadata": {},
   "outputs": [
    {
     "name": "stdout",
     "output_type": "stream",
     "text": [
      "Welcome to the Brand Name Generator\n",
      "What's the name of the city you grew up in?\n",
      "kailali\n",
      "What's your pet's name?\n",
      "rocky\n",
      "Your brand name could be kailali rocky\n"
     ]
    }
   ],
   "source": [
    "print(\"Welcome to the Brand Name Generator\")\n",
    "street = input(\"What's the name of the city you grew up in?\\n\")\n",
    "pet = input(\"What's your pet's name?\\n\")\n",
    "print(\"Your brand name could be \" + street + \" \" + pet)"
   ]
  },
  {
   "cell_type": "markdown",
   "id": "46f285d1",
   "metadata": {},
   "source": [
    "### Printing to the Console in Python"
   ]
  },
  {
   "cell_type": "code",
   "execution_count": 3,
   "id": "f91e1792",
   "metadata": {},
   "outputs": [
    {
     "name": "stdout",
     "output_type": "stream",
     "text": [
      "Hello world!\n"
     ]
    }
   ],
   "source": [
    "print(\"Hello world!\")"
   ]
  },
  {
   "cell_type": "markdown",
   "id": "6ba35b69",
   "metadata": {},
   "source": [
    "### Interactive Coding Exercise - Printing "
   ]
  },
  {
   "cell_type": "markdown",
   "id": "3d4dbc96",
   "metadata": {},
   "source": [
    "After you have written your code, you should run your program and it should print the following:\n",
    "\n",
    "Day 1 - Python Print Function\n",
    "The function is declared like this:\n",
    "print('what to print')"
   ]
  },
  {
   "cell_type": "code",
   "execution_count": 4,
   "id": "32d3a9c7",
   "metadata": {},
   "outputs": [
    {
     "name": "stdout",
     "output_type": "stream",
     "text": [
      "Day 1 - Python Print Function\n",
      "The function is declared like this:\n",
      "print('what to print')\n",
      "\n"
     ]
    }
   ],
   "source": [
    "print(\"\"\"Day 1 - Python Print Function\n",
    "The function is declared like this:\n",
    "print('what to print')\n",
    "\"\"\")"
   ]
  },
  {
   "cell_type": "markdown",
   "id": "a691244f",
   "metadata": {},
   "source": [
    "### String Manipulation and Code Intelligence"
   ]
  },
  {
   "cell_type": "code",
   "execution_count": 5,
   "id": "82deeebe",
   "metadata": {},
   "outputs": [
    {
     "name": "stdout",
     "output_type": "stream",
     "text": [
      "Hello world!\n",
      "Hello world!\n",
      "Hello world!\n"
     ]
    }
   ],
   "source": [
    "print(\"Hello world!\")\n",
    "print(\"Hello world!\")\n",
    "print(\"Hello world!\")"
   ]
  },
  {
   "cell_type": "code",
   "execution_count": 6,
   "id": "010eaa3b",
   "metadata": {},
   "outputs": [
    {
     "name": "stdout",
     "output_type": "stream",
     "text": [
      "Hello world!\n",
      "Hello world!\n",
      "Hello world!\n"
     ]
    }
   ],
   "source": [
    "print(\"Hello world!\\nHello world!\\nHello world!\")"
   ]
  },
  {
   "cell_type": "code",
   "execution_count": null,
   "id": "fc8ffdce",
   "metadata": {},
   "outputs": [],
   "source": []
  }
 ],
 "metadata": {
  "kernelspec": {
   "display_name": "Python 3 (ipykernel)",
   "language": "python",
   "name": "python3"
  },
  "language_info": {
   "codemirror_mode": {
    "name": "ipython",
    "version": 3
   },
   "file_extension": ".py",
   "mimetype": "text/x-python",
   "name": "python",
   "nbconvert_exporter": "python",
   "pygments_lexer": "ipython3",
   "version": "3.10.6"
  }
 },
 "nbformat": 4,
 "nbformat_minor": 5
}
