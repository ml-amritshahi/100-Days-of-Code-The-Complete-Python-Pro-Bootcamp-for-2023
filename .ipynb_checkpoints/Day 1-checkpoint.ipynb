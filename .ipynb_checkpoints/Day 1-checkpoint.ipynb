{
 "cells": [
  {
   "cell_type": "markdown",
   "id": "86f15fde",
   "metadata": {},
   "source": [
    "## Day 1: Printing, Commenting, Debugging, String Manipulation and Variables"
   ]
  },
  {
   "cell_type": "code",
   "execution_count": 1,
   "id": "3fae5101",
   "metadata": {},
   "outputs": [
    {
     "name": "stdout",
     "output_type": "stream",
     "text": [
      "Welcome to the Brand Name Generator\n",
      "What's the name of the city you grew up in?\n",
      "kailali\n",
      "What's your pet's name?\n",
      "rocky\n",
      "Your brand name could be kailali rocky\n"
     ]
    }
   ],
   "source": [
    "print(\"Welcome to the Brand Name Generator\")\n",
    "street = input(\"What's the name of the city you grew up in?\\n\")\n",
    "pet = input(\"What's your pet's name?\\n\")\n",
    "print(\"Your brand name could be \" + street + \" \" + pet)"
   ]
  },
  {
   "cell_type": "markdown",
   "id": "f8679c40",
   "metadata": {},
   "source": [
    "## 6. Printing to the Console in Python"
   ]
  },
  {
   "cell_type": "code",
   "execution_count": 3,
   "id": "725d889f",
   "metadata": {},
   "outputs": [
    {
     "name": "stdout",
     "output_type": "stream",
     "text": [
      "Hello world!\n"
     ]
    }
   ],
   "source": [
    "print(\"Hello world!\")"
   ]
  },
  {
   "cell_type": "markdown",
   "id": "7152b876",
   "metadata": {},
   "source": [
    "# 8. Interactive Coding Exercise - Printing "
   ]
  },
  {
   "cell_type": "markdown",
   "id": "7f0efcbe",
   "metadata": {},
   "source": [
    "After you have written your code, you should run your program and it should print the following:\n",
    "\n",
    "Day 1 - Python Print Function\n",
    "The function is declared like this:\n",
    "print('what to print')"
   ]
  },
  {
   "cell_type": "code",
   "execution_count": 4,
   "id": "73e6ccdd",
   "metadata": {},
   "outputs": [
    {
     "name": "stdout",
     "output_type": "stream",
     "text": [
      "Day 1 - Python Print Function\n",
      "The function is declared like this:\n",
      "print('what to print')\n",
      "\n"
     ]
    }
   ],
   "source": [
    "print(\"\"\"Day 1 - Python Print Function\n",
    "The function is declared like this:\n",
    "print('what to print')\n",
    "\"\"\")"
   ]
  },
  {
   "cell_type": "code",
   "execution_count": null,
   "id": "91a25b3e",
   "metadata": {},
   "outputs": [],
   "source": []
  }
 ],
 "metadata": {
  "kernelspec": {
   "display_name": "Python 3 (ipykernel)",
   "language": "python",
   "name": "python3"
  },
  "language_info": {
   "codemirror_mode": {
    "name": "ipython",
    "version": 3
   },
   "file_extension": ".py",
   "mimetype": "text/x-python",
   "name": "python",
   "nbconvert_exporter": "python",
   "pygments_lexer": "ipython3",
   "version": "3.10.6"
  }
 },
 "nbformat": 4,
 "nbformat_minor": 5
}
